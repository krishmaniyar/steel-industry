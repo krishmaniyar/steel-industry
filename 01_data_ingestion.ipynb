{
 "cells": [
  {
   "cell_type": "markdown",
   "metadata": {},
   "source": [
    "# Data Ingestion Notebook\n",
    "## Steel Industry Load Type Prediction\n",
    "\n",
    "This notebook handles the data ingestion phase of our ML pipeline.\n",
    "\n",
    "**Objectives:**\n",
    "- Load the raw dataset\n",
    "- Perform initial data exploration\n",
    "- Basic data cleaning and preprocessing\n",
    "- Save the ingested data for next phase"
   ]
  },
  {
   "cell_type": "code",
   "metadata": {
    "ExecuteTime": {
     "end_time": "2025-10-13T04:27:24.847925Z",
     "start_time": "2025-10-13T04:27:24.845230Z"
    }
   },
   "source": [
    "# Import necessary libraries\n",
    "import pandas as pd\n",
    "import numpy as np\n",
    "import matplotlib.pyplot as plt\n",
    "import seaborn as sns\n",
    "from datetime import datetime\n",
    "import warnings\n",
    "warnings.filterwarnings('ignore')\n",
    "\n",
    "# Set display options\n",
    "pd.set_option('display.max_columns', None)\n",
    "pd.set_option('display.width', None)\n",
    "\n",
    "print(\"Data Ingestion Phase Started\")\n",
    "print(f\"Timestamp: {datetime.now()}\")"
   ],
   "outputs": [
    {
     "name": "stdout",
     "output_type": "stream",
     "text": [
      "Data Ingestion Phase Started\n",
      "Timestamp: 2025-10-13 09:57:24.846780\n"
     ]
    }
   ],
   "execution_count": 1
  },
  {
   "cell_type": "markdown",
   "metadata": {},
   "source": [
    "## 1. Load Raw Data"
   ]
  },
  {
   "cell_type": "code",
   "metadata": {
    "ExecuteTime": {
     "end_time": "2025-10-13T04:27:24.890578Z",
     "start_time": "2025-10-13T04:27:24.853550Z"
    }
   },
   "source": [
    "# Load the dataset\n",
    "try:\n",
    "    df = pd.read_csv('Steel_industry_data.csv')\n",
    "    print(f\"✓ Data loaded successfully!\")\n",
    "    print(f\"Dataset shape: {df.shape}\")\n",
    "except FileNotFoundError:\n",
    "    print(\"❌ Error: Steel_industry_data.csv not found in the current directory\")\n",
    "except Exception as e:\n",
    "    print(f\"❌ Error loading data: {e}\")"
   ],
   "outputs": [
    {
     "name": "stdout",
     "output_type": "stream",
     "text": [
      "✓ Data loaded successfully!\n",
      "Dataset shape: (35040, 11)\n"
     ]
    }
   ],
   "execution_count": 2
  },
  {
   "cell_type": "markdown",
   "metadata": {},
   "source": [
    "## 2. Initial Data Exploration"
   ]
  },
  {
   "cell_type": "code",
   "metadata": {
    "ExecuteTime": {
     "end_time": "2025-10-13T04:27:24.899572Z",
     "start_time": "2025-10-13T04:27:24.896359Z"
    }
   },
   "source": [
    "# Display basic information about the dataset\n",
    "print(\"=== DATASET OVERVIEW ===\")\n",
    "print(f\"Number of rows: {df.shape[0]:,}\")\n",
    "print(f\"Number of columns: {df.shape[1]}\")\n",
    "print(f\"\\nColumn names:\")\n",
    "for i, col in enumerate(df.columns, 1):\n",
    "    print(f\"{i:2d}. {col}\")"
   ],
   "outputs": [
    {
     "name": "stdout",
     "output_type": "stream",
     "text": [
      "=== DATASET OVERVIEW ===\n",
      "Number of rows: 35,040\n",
      "Number of columns: 11\n",
      "\n",
      "Column names:\n",
      " 1. date\n",
      " 2. Usage_kWh\n",
      " 3. Lagging_Current_Reactive.Power_kVarh\n",
      " 4. Leading_Current_Reactive_Power_kVarh\n",
      " 5. CO2(tCO2)\n",
      " 6. Lagging_Current_Power_Factor\n",
      " 7. Leading_Current_Power_Factor\n",
      " 8. NSM\n",
      " 9. WeekStatus\n",
      "10. Day_of_week\n",
      "11. Load_Type\n"
     ]
    }
   ],
   "execution_count": 3
  },
  {
   "cell_type": "code",
   "metadata": {
    "ExecuteTime": {
     "end_time": "2025-10-13T04:27:24.924858Z",
     "start_time": "2025-10-13T04:27:24.912099Z"
    }
   },
   "source": [
    "# Display first few rows\n",
    "print(\"=== FIRST 5 ROWS ===\")\n",
    "df.head()"
   ],
   "outputs": [
    {
     "name": "stdout",
     "output_type": "stream",
     "text": [
      "=== FIRST 5 ROWS ===\n"
     ]
    },
    {
     "data": {
      "text/plain": [
       "               date  Usage_kWh  Lagging_Current_Reactive.Power_kVarh  \\\n",
       "0  01/01/2018 00:15       3.17                                  2.95   \n",
       "1  01/01/2018 00:30       4.00                                  4.46   \n",
       "2  01/01/2018 00:45       3.24                                  3.28   \n",
       "3  01/01/2018 01:00       3.31                                  3.56   \n",
       "4  01/01/2018 01:15       3.82                                  4.50   \n",
       "\n",
       "   Leading_Current_Reactive_Power_kVarh  CO2(tCO2)  \\\n",
       "0                                   0.0        0.0   \n",
       "1                                   0.0        0.0   \n",
       "2                                   0.0        0.0   \n",
       "3                                   0.0        0.0   \n",
       "4                                   0.0        0.0   \n",
       "\n",
       "   Lagging_Current_Power_Factor  Leading_Current_Power_Factor   NSM  \\\n",
       "0                         73.21                         100.0   900   \n",
       "1                         66.77                         100.0  1800   \n",
       "2                         70.28                         100.0  2700   \n",
       "3                         68.09                         100.0  3600   \n",
       "4                         64.72                         100.0  4500   \n",
       "\n",
       "  WeekStatus Day_of_week   Load_Type  \n",
       "0    Weekday      Monday  Light_Load  \n",
       "1    Weekday      Monday  Light_Load  \n",
       "2    Weekday      Monday  Light_Load  \n",
       "3    Weekday      Monday  Light_Load  \n",
       "4    Weekday      Monday  Light_Load  "
      ],
      "text/html": [
       "<div>\n",
       "<style scoped>\n",
       "    .dataframe tbody tr th:only-of-type {\n",
       "        vertical-align: middle;\n",
       "    }\n",
       "\n",
       "    .dataframe tbody tr th {\n",
       "        vertical-align: top;\n",
       "    }\n",
       "\n",
       "    .dataframe thead th {\n",
       "        text-align: right;\n",
       "    }\n",
       "</style>\n",
       "<table border=\"1\" class=\"dataframe\">\n",
       "  <thead>\n",
       "    <tr style=\"text-align: right;\">\n",
       "      <th></th>\n",
       "      <th>date</th>\n",
       "      <th>Usage_kWh</th>\n",
       "      <th>Lagging_Current_Reactive.Power_kVarh</th>\n",
       "      <th>Leading_Current_Reactive_Power_kVarh</th>\n",
       "      <th>CO2(tCO2)</th>\n",
       "      <th>Lagging_Current_Power_Factor</th>\n",
       "      <th>Leading_Current_Power_Factor</th>\n",
       "      <th>NSM</th>\n",
       "      <th>WeekStatus</th>\n",
       "      <th>Day_of_week</th>\n",
       "      <th>Load_Type</th>\n",
       "    </tr>\n",
       "  </thead>\n",
       "  <tbody>\n",
       "    <tr>\n",
       "      <th>0</th>\n",
       "      <td>01/01/2018 00:15</td>\n",
       "      <td>3.17</td>\n",
       "      <td>2.95</td>\n",
       "      <td>0.0</td>\n",
       "      <td>0.0</td>\n",
       "      <td>73.21</td>\n",
       "      <td>100.0</td>\n",
       "      <td>900</td>\n",
       "      <td>Weekday</td>\n",
       "      <td>Monday</td>\n",
       "      <td>Light_Load</td>\n",
       "    </tr>\n",
       "    <tr>\n",
       "      <th>1</th>\n",
       "      <td>01/01/2018 00:30</td>\n",
       "      <td>4.00</td>\n",
       "      <td>4.46</td>\n",
       "      <td>0.0</td>\n",
       "      <td>0.0</td>\n",
       "      <td>66.77</td>\n",
       "      <td>100.0</td>\n",
       "      <td>1800</td>\n",
       "      <td>Weekday</td>\n",
       "      <td>Monday</td>\n",
       "      <td>Light_Load</td>\n",
       "    </tr>\n",
       "    <tr>\n",
       "      <th>2</th>\n",
       "      <td>01/01/2018 00:45</td>\n",
       "      <td>3.24</td>\n",
       "      <td>3.28</td>\n",
       "      <td>0.0</td>\n",
       "      <td>0.0</td>\n",
       "      <td>70.28</td>\n",
       "      <td>100.0</td>\n",
       "      <td>2700</td>\n",
       "      <td>Weekday</td>\n",
       "      <td>Monday</td>\n",
       "      <td>Light_Load</td>\n",
       "    </tr>\n",
       "    <tr>\n",
       "      <th>3</th>\n",
       "      <td>01/01/2018 01:00</td>\n",
       "      <td>3.31</td>\n",
       "      <td>3.56</td>\n",
       "      <td>0.0</td>\n",
       "      <td>0.0</td>\n",
       "      <td>68.09</td>\n",
       "      <td>100.0</td>\n",
       "      <td>3600</td>\n",
       "      <td>Weekday</td>\n",
       "      <td>Monday</td>\n",
       "      <td>Light_Load</td>\n",
       "    </tr>\n",
       "    <tr>\n",
       "      <th>4</th>\n",
       "      <td>01/01/2018 01:15</td>\n",
       "      <td>3.82</td>\n",
       "      <td>4.50</td>\n",
       "      <td>0.0</td>\n",
       "      <td>0.0</td>\n",
       "      <td>64.72</td>\n",
       "      <td>100.0</td>\n",
       "      <td>4500</td>\n",
       "      <td>Weekday</td>\n",
       "      <td>Monday</td>\n",
       "      <td>Light_Load</td>\n",
       "    </tr>\n",
       "  </tbody>\n",
       "</table>\n",
       "</div>"
      ]
     },
     "execution_count": 4,
     "metadata": {},
     "output_type": "execute_result"
    }
   ],
   "execution_count": 4
  },
  {
   "cell_type": "code",
   "metadata": {
    "ExecuteTime": {
     "end_time": "2025-10-13T04:27:24.976970Z",
     "start_time": "2025-10-13T04:27:24.966623Z"
    }
   },
   "source": [
    "# Display data types and info\n",
    "print(\"=== DATA TYPES AND INFO ===\")\n",
    "df.info()"
   ],
   "outputs": [
    {
     "name": "stdout",
     "output_type": "stream",
     "text": [
      "=== DATA TYPES AND INFO ===\n",
      "<class 'pandas.core.frame.DataFrame'>\n",
      "RangeIndex: 35040 entries, 0 to 35039\n",
      "Data columns (total 11 columns):\n",
      " #   Column                                Non-Null Count  Dtype  \n",
      "---  ------                                --------------  -----  \n",
      " 0   date                                  35040 non-null  object \n",
      " 1   Usage_kWh                             35040 non-null  float64\n",
      " 2   Lagging_Current_Reactive.Power_kVarh  35040 non-null  float64\n",
      " 3   Leading_Current_Reactive_Power_kVarh  35040 non-null  float64\n",
      " 4   CO2(tCO2)                             35040 non-null  float64\n",
      " 5   Lagging_Current_Power_Factor          35040 non-null  float64\n",
      " 6   Leading_Current_Power_Factor          35040 non-null  float64\n",
      " 7   NSM                                   35040 non-null  int64  \n",
      " 8   WeekStatus                            35040 non-null  object \n",
      " 9   Day_of_week                           35040 non-null  object \n",
      " 10  Load_Type                             35040 non-null  object \n",
      "dtypes: float64(6), int64(1), object(4)\n",
      "memory usage: 2.9+ MB\n"
     ]
    }
   ],
   "execution_count": 5
  },
  {
   "cell_type": "code",
   "metadata": {
    "ExecuteTime": {
     "end_time": "2025-10-13T04:27:25.063926Z",
     "start_time": "2025-10-13T04:27:25.047421Z"
    }
   },
   "source": [
    "# Display basic statistics\n",
    "print(\"=== STATISTICAL SUMMARY ===\")\n",
    "df.describe()"
   ],
   "outputs": [
    {
     "name": "stdout",
     "output_type": "stream",
     "text": [
      "=== STATISTICAL SUMMARY ===\n"
     ]
    },
    {
     "data": {
      "text/plain": [
       "          Usage_kWh  Lagging_Current_Reactive.Power_kVarh  \\\n",
       "count  35040.000000                          35040.000000   \n",
       "mean      27.386892                             13.035384   \n",
       "std       33.444380                             16.306000   \n",
       "min        0.000000                              0.000000   \n",
       "25%        3.200000                              2.300000   \n",
       "50%        4.570000                              5.000000   \n",
       "75%       51.237500                             22.640000   \n",
       "max      157.180000                             96.910000   \n",
       "\n",
       "       Leading_Current_Reactive_Power_kVarh     CO2(tCO2)  \\\n",
       "count                          35040.000000  35040.000000   \n",
       "mean                               3.870949      0.011524   \n",
       "std                                7.424463      0.016151   \n",
       "min                                0.000000      0.000000   \n",
       "25%                                0.000000      0.000000   \n",
       "50%                                0.000000      0.000000   \n",
       "75%                                2.090000      0.020000   \n",
       "max                               27.760000      0.070000   \n",
       "\n",
       "       Lagging_Current_Power_Factor  Leading_Current_Power_Factor  \\\n",
       "count                  35040.000000                  35040.000000   \n",
       "mean                      80.578056                     84.367870   \n",
       "std                       18.921322                     30.456535   \n",
       "min                        0.000000                      0.000000   \n",
       "25%                       63.320000                     99.700000   \n",
       "50%                       87.960000                    100.000000   \n",
       "75%                       99.022500                    100.000000   \n",
       "max                      100.000000                    100.000000   \n",
       "\n",
       "                NSM  \n",
       "count  35040.000000  \n",
       "mean   42750.000000  \n",
       "std    24940.534317  \n",
       "min        0.000000  \n",
       "25%    21375.000000  \n",
       "50%    42750.000000  \n",
       "75%    64125.000000  \n",
       "max    85500.000000  "
      ],
      "text/html": [
       "<div>\n",
       "<style scoped>\n",
       "    .dataframe tbody tr th:only-of-type {\n",
       "        vertical-align: middle;\n",
       "    }\n",
       "\n",
       "    .dataframe tbody tr th {\n",
       "        vertical-align: top;\n",
       "    }\n",
       "\n",
       "    .dataframe thead th {\n",
       "        text-align: right;\n",
       "    }\n",
       "</style>\n",
       "<table border=\"1\" class=\"dataframe\">\n",
       "  <thead>\n",
       "    <tr style=\"text-align: right;\">\n",
       "      <th></th>\n",
       "      <th>Usage_kWh</th>\n",
       "      <th>Lagging_Current_Reactive.Power_kVarh</th>\n",
       "      <th>Leading_Current_Reactive_Power_kVarh</th>\n",
       "      <th>CO2(tCO2)</th>\n",
       "      <th>Lagging_Current_Power_Factor</th>\n",
       "      <th>Leading_Current_Power_Factor</th>\n",
       "      <th>NSM</th>\n",
       "    </tr>\n",
       "  </thead>\n",
       "  <tbody>\n",
       "    <tr>\n",
       "      <th>count</th>\n",
       "      <td>35040.000000</td>\n",
       "      <td>35040.000000</td>\n",
       "      <td>35040.000000</td>\n",
       "      <td>35040.000000</td>\n",
       "      <td>35040.000000</td>\n",
       "      <td>35040.000000</td>\n",
       "      <td>35040.000000</td>\n",
       "    </tr>\n",
       "    <tr>\n",
       "      <th>mean</th>\n",
       "      <td>27.386892</td>\n",
       "      <td>13.035384</td>\n",
       "      <td>3.870949</td>\n",
       "      <td>0.011524</td>\n",
       "      <td>80.578056</td>\n",
       "      <td>84.367870</td>\n",
       "      <td>42750.000000</td>\n",
       "    </tr>\n",
       "    <tr>\n",
       "      <th>std</th>\n",
       "      <td>33.444380</td>\n",
       "      <td>16.306000</td>\n",
       "      <td>7.424463</td>\n",
       "      <td>0.016151</td>\n",
       "      <td>18.921322</td>\n",
       "      <td>30.456535</td>\n",
       "      <td>24940.534317</td>\n",
       "    </tr>\n",
       "    <tr>\n",
       "      <th>min</th>\n",
       "      <td>0.000000</td>\n",
       "      <td>0.000000</td>\n",
       "      <td>0.000000</td>\n",
       "      <td>0.000000</td>\n",
       "      <td>0.000000</td>\n",
       "      <td>0.000000</td>\n",
       "      <td>0.000000</td>\n",
       "    </tr>\n",
       "    <tr>\n",
       "      <th>25%</th>\n",
       "      <td>3.200000</td>\n",
       "      <td>2.300000</td>\n",
       "      <td>0.000000</td>\n",
       "      <td>0.000000</td>\n",
       "      <td>63.320000</td>\n",
       "      <td>99.700000</td>\n",
       "      <td>21375.000000</td>\n",
       "    </tr>\n",
       "    <tr>\n",
       "      <th>50%</th>\n",
       "      <td>4.570000</td>\n",
       "      <td>5.000000</td>\n",
       "      <td>0.000000</td>\n",
       "      <td>0.000000</td>\n",
       "      <td>87.960000</td>\n",
       "      <td>100.000000</td>\n",
       "      <td>42750.000000</td>\n",
       "    </tr>\n",
       "    <tr>\n",
       "      <th>75%</th>\n",
       "      <td>51.237500</td>\n",
       "      <td>22.640000</td>\n",
       "      <td>2.090000</td>\n",
       "      <td>0.020000</td>\n",
       "      <td>99.022500</td>\n",
       "      <td>100.000000</td>\n",
       "      <td>64125.000000</td>\n",
       "    </tr>\n",
       "    <tr>\n",
       "      <th>max</th>\n",
       "      <td>157.180000</td>\n",
       "      <td>96.910000</td>\n",
       "      <td>27.760000</td>\n",
       "      <td>0.070000</td>\n",
       "      <td>100.000000</td>\n",
       "      <td>100.000000</td>\n",
       "      <td>85500.000000</td>\n",
       "    </tr>\n",
       "  </tbody>\n",
       "</table>\n",
       "</div>"
      ]
     },
     "execution_count": 6,
     "metadata": {},
     "output_type": "execute_result"
    }
   ],
   "execution_count": 6
  },
  {
   "cell_type": "markdown",
   "metadata": {},
   "source": [
    "## 3. Target Variable Analysis"
   ]
  },
  {
   "cell_type": "code",
   "metadata": {
    "ExecuteTime": {
     "end_time": "2025-10-13T04:27:25.116940Z",
     "start_time": "2025-10-13T04:27:25.111510Z"
    }
   },
   "source": [
    "# Analyze target variable (Load_Type)\n",
    "print(\"=== TARGET VARIABLE ANALYSIS ===\")\n",
    "print(\"\\nLoad_Type distribution:\")\n",
    "load_type_counts = df['Load_Type'].value_counts()\n",
    "print(load_type_counts)\n",
    "print(f\"\\nPercentage distribution:\")\n",
    "print((load_type_counts / len(df) * 100).round(2))"
   ],
   "outputs": [
    {
     "name": "stdout",
     "output_type": "stream",
     "text": [
      "=== TARGET VARIABLE ANALYSIS ===\n",
      "\n",
      "Load_Type distribution:\n",
      "Load_Type\n",
      "Light_Load      18072\n",
      "Medium_Load      9696\n",
      "Maximum_Load     7272\n",
      "Name: count, dtype: int64\n",
      "\n",
      "Percentage distribution:\n",
      "Load_Type\n",
      "Light_Load      51.58\n",
      "Medium_Load     27.67\n",
      "Maximum_Load    20.75\n",
      "Name: count, dtype: float64\n"
     ]
    }
   ],
   "execution_count": 7
  },
  {
   "cell_type": "code",
   "metadata": {
    "ExecuteTime": {
     "end_time": "2025-10-13T04:27:25.388633Z",
     "start_time": "2025-10-13T04:27:25.178014Z"
    }
   },
   "source": [
    "# Visualize target variable distribution\n",
    "plt.figure(figsize=(12, 5))\n",
    "\n",
    "plt.subplot(1, 2, 1)\n",
    "df['Load_Type'].value_counts().plot(kind='bar', color=['lightcoral', 'lightblue', 'lightgreen'])\n",
    "plt.title('Load Type Distribution (Count)', fontsize=12, fontweight='bold')\n",
    "plt.xlabel('Load Type')\n",
    "plt.ylabel('Count')\n",
    "plt.xticks(rotation=45)\n",
    "\n",
    "plt.subplot(1, 2, 2)\n",
    "df['Load_Type'].value_counts().plot(kind='pie', autopct='%1.1f%%', colors=['lightcoral', 'lightblue', 'lightgreen'])\n",
    "plt.title('Load Type Distribution (Percentage)', fontsize=12, fontweight='bold')\n",
    "plt.ylabel('')\n",
    "\n",
    "plt.tight_layout()\n",
    "plt.show()"
   ],
   "outputs": [
    {
     "data": {
      "text/plain": [
       "<Figure size 1200x500 with 2 Axes>"
      ],
      "image/png": "[encoded data removed]"
     },
     "metadata": {},
     "output_type": "display_data",
     "jetTransient": {
      "display_id": null
     }
    }
   ],
   "execution_count": 8
  },
  {
   "cell_type": "markdown",
   "metadata": {},
   "source": [
    "## 4. Feature Analysis"
   ]
  },
  {
   "cell_type": "code",
   "metadata": {
    "ExecuteTime": {
     "end_time": "2025-10-13T04:27:25.400695Z",
     "start_time": "2025-10-13T04:27:25.394381Z"
    }
   },
   "source": [
    "# Separate numerical and categorical columns\n",
    "numerical_cols = df.select_dtypes(include=[np.number]).columns.tolist()\n",
    "categorical_cols = df.select_dtypes(include=['object']).columns.tolist()\n",
    "\n",
    "print(f\"Numerical columns ({len(numerical_cols)}): {numerical_cols}\")\n",
    "print(f\"Categorical columns ({len(categorical_cols)}): {categorical_cols}\")"
   ],
   "outputs": [
    {
     "name": "stdout",
     "output_type": "stream",
     "text": [
      "Numerical columns (7): ['Usage_kWh', 'Lagging_Current_Reactive.Power_kVarh', 'Leading_Current_Reactive_Power_kVarh', 'CO2(tCO2)', 'Lagging_Current_Power_Factor', 'Leading_Current_Power_Factor', 'NSM']\n",
      "Categorical columns (4): ['date', 'WeekStatus', 'Day_of_week', 'Load_Type']\n"
     ]
    }
   ],
   "execution_count": 9
  },
  {
   "cell_type": "code",
   "metadata": {
    "ExecuteTime": {
     "end_time": "2025-10-13T04:27:25.416703Z",
     "start_time": "2025-10-13T04:27:25.408891Z"
    }
   },
   "source": [
    "# Check for missing values\n",
    "print(\"=== MISSING VALUES CHECK ===\")\n",
    "missing_values = df.isnull().sum()\n",
    "if missing_values.sum() == 0:\n",
    "    print(\"✓ No missing values found in the dataset!\")\n",
    "else:\n",
    "    print(\"Missing values per column:\")\n",
    "    print(missing_values[missing_values > 0])"
   ],
   "outputs": [
    {
     "name": "stdout",
     "output_type": "stream",
     "text": [
      "=== MISSING VALUES CHECK ===\n",
      "✓ No missing values found in the dataset!\n"
     ]
    }
   ],
   "execution_count": 10
  },
  {
   "cell_type": "code",
   "metadata": {
    "ExecuteTime": {
     "end_time": "2025-10-13T04:27:25.440313Z",
     "start_time": "2025-10-13T04:27:25.424822Z"
    }
   },
   "source": [
    "# Check for duplicate rows\n",
    "print(\"=== DUPLICATE ROWS CHECK ===\")\n",
    "duplicates = df.duplicated().sum()\n",
    "if duplicates == 0:\n",
    "    print(\"✓ No duplicate rows found!\")\n",
    "else:\n",
    "    print(f\"⚠️ Found {duplicates} duplicate rows\")\n",
    "    print(\"First few duplicate rows:\")\n",
    "    print(df[df.duplicated()].head())"
   ],
   "outputs": [
    {
     "name": "stdout",
     "output_type": "stream",
     "text": [
      "=== DUPLICATE ROWS CHECK ===\n",
      "✓ No duplicate rows found!\n"
     ]
    }
   ],
   "execution_count": 11
  },
  {
   "cell_type": "markdown",
   "metadata": {},
   "source": [
    "## 5. Date/Time Analysis"
   ]
  },
  {
   "cell_type": "code",
   "metadata": {
    "ExecuteTime": {
     "end_time": "2025-10-13T04:27:25.512402Z",
     "start_time": "2025-10-13T04:27:25.448295Z"
    }
   },
   "source": [
    "# Parse and analyze date column\n",
    "print(\"=== DATE/TIME ANALYSIS ===\")\n",
    "if 'date' in df.columns:\n",
    "    # Convert date column to datetime\n",
    "    df['date'] = pd.to_datetime(df['date'], format='%d/%m/%Y %H:%M')\n",
    "    \n",
    "    print(f\"Date range: {df['date'].min()} to {df['date'].max()}\")\n",
    "    print(f\"Total time span: {(df['date'].max() - df['date'].min()).days} days\")\n",
    "    \n",
    "    # Extract additional time features for future use\n",
    "    df['year'] = df['date'].dt.year\n",
    "    df['month'] = df['date'].dt.month\n",
    "    df['day'] = df['date'].dt.day\n",
    "    df['hour'] = df['date'].dt.hour\n",
    "    df['minute'] = df['date'].dt.minute\n",
    "    \n",
    "    print(\"✓ Date features extracted successfully\")\n",
    "else:\n",
    "    print(\"No date column found\")"
   ],
   "outputs": [
    {
     "name": "stdout",
     "output_type": "stream",
     "text": [
      "=== DATE/TIME ANALYSIS ===\n",
      "Date range: 2018-01-01 00:00:00 to 2018-12-31 23:45:00\n",
      "Total time span: 364 days\n",
      "✓ Date features extracted successfully\n"
     ]
    }
   ],
   "execution_count": 12
  },
  {
   "cell_type": "markdown",
   "metadata": {},
   "source": [
    "## 6. Categorical Features Analysis"
   ]
  },
  {
   "cell_type": "code",
   "metadata": {
    "ExecuteTime": {
     "end_time": "2025-10-13T04:27:25.529711Z",
     "start_time": "2025-10-13T04:27:25.520697Z"
    }
   },
   "source": [
    "# Analyze categorical features (excluding target)\n",
    "categorical_features = [col for col in categorical_cols if col != 'Load_Type' and col != 'date']\n",
    "\n",
    "print(\"=== CATEGORICAL FEATURES ANALYSIS ===\")\n",
    "for col in categorical_features:\n",
    "    print(f\"\\n{col}:\")\n",
    "    print(df[col].value_counts())\n",
    "    print(f\"Unique values: {df[col].nunique()}\")"
   ],
   "outputs": [
    {
     "name": "stdout",
     "output_type": "stream",
     "text": [
      "=== CATEGORICAL FEATURES ANALYSIS ===\n",
      "\n",
      "WeekStatus:\n",
      "WeekStatus\n",
      "Weekday    25056\n",
      "Weekend     9984\n",
      "Name: count, dtype: int64\n",
      "Unique values: 2\n",
      "\n",
      "Day_of_week:\n",
      "Day_of_week\n",
      "Monday       5088\n",
      "Tuesday      4992\n",
      "Wednesday    4992\n",
      "Thursday     4992\n",
      "Friday       4992\n",
      "Saturday     4992\n",
      "Sunday       4992\n",
      "Name: count, dtype: int64\n",
      "Unique values: 7\n"
     ]
    }
   ],
   "execution_count": 13
  },
  {
   "cell_type": "markdown",
   "metadata": {},
   "source": [
    "## 7. Correlation Analysis"
   ]
  },
  {
   "cell_type": "code",
   "metadata": {
    "ExecuteTime": {
     "end_time": "2025-10-13T04:27:25.753489Z",
     "start_time": "2025-10-13T04:27:25.538001Z"
    }
   },
   "source": [
    "# Create correlation matrix for numerical features\n",
    "print(\"=== CORRELATION ANALYSIS ===\")\n",
    "\n",
    "# Select only numerical columns for correlation\n",
    "numerical_features = [col for col in numerical_cols if col not in ['year', 'month', 'day', 'hour', 'minute']]\n",
    "\n",
    "if len(numerical_features) > 1:\n",
    "    plt.figure(figsize=(12, 10))\n",
    "    correlation_matrix = df[numerical_features].corr()\n",
    "    \n",
    "    sns.heatmap(correlation_matrix, \n",
    "                annot=True, \n",
    "                cmap='coolwarm', \n",
    "                center=0, \n",
    "                fmt='.2f',\n",
    "                square=True)\n",
    "    plt.title('Correlation Matrix of Numerical Features', fontsize=14, fontweight='bold')\n",
    "    plt.tight_layout()\n",
    "    plt.show()\n",
    "    \n",
    "    # Find highly correlated features\n",
    "    high_corr_pairs = []\n",
    "    for i in range(len(correlation_matrix.columns)):\n",
    "        for j in range(i+1, len(correlation_matrix.columns)):\n",
    "            corr_value = correlation_matrix.iloc[i, j]\n",
    "            if abs(corr_value) > 0.7:  # Threshold for high correlation\n",
    "                high_corr_pairs.append((correlation_matrix.columns[i], \n",
    "                                      correlation_matrix.columns[j], \n",
    "                                      corr_value))\n",
    "    \n",
    "    if high_corr_pairs:\n",
    "        print(\"\\n⚠️ Highly correlated feature pairs (|correlation| > 0.7):\")\n",
    "        for feat1, feat2, corr in high_corr_pairs:\n",
    "            print(f\"{feat1} - {feat2}: {corr:.3f}\")\n",
    "    else:\n",
    "        print(\"\\n✓ No highly correlated feature pairs found\")\n",
    "else:\n",
    "    print(\"Not enough numerical features for correlation analysis\")"
   ],
   "outputs": [
    {
     "name": "stdout",
     "output_type": "stream",
     "text": [
      "=== CORRELATION ANALYSIS ===\n"
     ]
    },
    {
     "data": {
      "text/plain": [
       "<Figure size 1200x1000 with 2 Axes>"
      ],
      "image/png": "[encoded data removed]"
     },
     "metadata": {},
     "output_type": "display_data",
     "jetTransient": {
      "display_id": null
     }
    },
    {
     "name": "stdout",
     "output_type": "stream",
     "text": [
      "\n",
      "⚠️ Highly correlated feature pairs (|correlation| > 0.7):\n",
      "Usage_kWh - Lagging_Current_Reactive.Power_kVarh: 0.896\n",
      "Usage_kWh - CO2(tCO2): 0.988\n",
      "Lagging_Current_Reactive.Power_kVarh - CO2(tCO2): 0.887\n",
      "Leading_Current_Reactive_Power_kVarh - Leading_Current_Power_Factor: -0.944\n"
     ]
    }
   ],
   "execution_count": 14
  },
  {
   "cell_type": "markdown",
   "metadata": {},
   "source": [
    "## 8. Data Quality Checks"
   ]
  },
  {
   "cell_type": "code",
   "metadata": {
    "ExecuteTime": {
     "end_time": "2025-10-13T04:27:25.777899Z",
     "start_time": "2025-10-13T04:27:25.758371Z"
    }
   },
   "source": [
    "# Perform additional data quality checks\n",
    "print(\"=== DATA QUALITY CHECKS ===\")\n",
    "\n",
    "# Check for infinite values\n",
    "inf_count = df.select_dtypes(include=[np.number]).isin([np.inf, -np.inf]).sum().sum()\n",
    "if inf_count == 0:\n",
    "    print(\"✓ No infinite values found\")\n",
    "else:\n",
    "    print(f\"⚠️ Found {inf_count} infinite values\")\n",
    "\n",
    "# Check for negative values in features that shouldn't be negative\n",
    "potential_positive_features = ['Usage_kWh', 'NSM']  # Add more as needed\n",
    "for col in potential_positive_features:\n",
    "    if col in df.columns:\n",
    "        negative_count = (df[col] < 0).sum()\n",
    "        if negative_count > 0:\n",
    "            print(f\"⚠️ Found {negative_count} negative values in {col}\")\n",
    "        else:\n",
    "            print(f\"✓ No negative values in {col}\")\n",
    "\n",
    "# Check data consistency\n",
    "print(\"\\n=== DATA CONSISTENCY CHECKS ===\")\n",
    "print(f\"Date range consistency: {df['date'].is_monotonic_increasing if 'date' in df.columns else 'No date column'}\")"
   ],
   "outputs": [
    {
     "name": "stdout",
     "output_type": "stream",
     "text": [
      "=== DATA QUALITY CHECKS ===\n",
      "✓ No infinite values found\n",
      "✓ No negative values in Usage_kWh\n",
      "✓ No negative values in NSM\n",
      "\n",
      "=== DATA CONSISTENCY CHECKS ===\n",
      "Date range consistency: False\n"
     ]
    }
   ],
   "execution_count": 15
  },
  {
   "cell_type": "markdown",
   "metadata": {},
   "source": [
    "## 9. Save Ingested Data"
   ]
  },
  {
   "cell_type": "code",
   "metadata": {
    "ExecuteTime": {
     "end_time": "2025-10-13T04:27:26.015568Z",
     "start_time": "2025-10-13T04:27:25.786245Z"
    }
   },
   "source": [
    "# Save the ingested and initially processed data\n",
    "output_filename = 'ingested_data.csv'\n",
    "\n",
    "try:\n",
    "    # Save without index\n",
    "    df.to_csv(output_filename, index=False)\n",
    "    print(f\"✓ Data successfully saved to {output_filename}\")\n",
    "    print(f\"Final dataset shape: {df.shape}\")\n",
    "    \n",
    "    # Verify the saved file\n",
    "    test_df = pd.read_csv(output_filename)\n",
    "    if test_df.shape == df.shape:\n",
    "        print(\"✓ File integrity verified\")\n",
    "    else:\n",
    "        print(\"⚠️ File integrity check failed\")\n",
    "        \n",
    "except Exception as e:\n",
    "    print(f\"❌ Error saving data: {e}\")"
   ],
   "outputs": [
    {
     "name": "stdout",
     "output_type": "stream",
     "text": [
      "✓ Data successfully saved to ingested_data.csv\n",
      "Final dataset shape: (35040, 16)\n",
      "✓ File integrity verified\n"
     ]
    }
   ],
   "execution_count": 16
  },
  {
   "cell_type": "markdown",
   "metadata": {},
   "source": [
    "## 10. Data Ingestion Summary"
   ]
  },
  {
   "cell_type": "code",
   "metadata": {
    "ExecuteTime": {
     "end_time": "2025-10-13T04:27:26.041975Z",
     "start_time": "2025-10-13T04:27:26.019629Z"
    }
   },
   "source": [
    "# Generate data ingestion summary\n",
    "print(\"\" + \"=\"*60 + \"\")\n",
    "print(\"             DATA INGESTION SUMMARY\")\n",
    "print(\"\" + \"=\"*60 + \"\")\n",
    "print(f\"✓ Dataset loaded successfully: {df.shape[0]:,} rows × {df.shape[1]} columns\")\n",
    "print(f\"✓ Target variable: Load_Type with {df['Load_Type'].nunique()} classes\")\n",
    "print(f\"✓ Target distribution: {dict(df['Load_Type'].value_counts())}\")\n",
    "print(f\"✓ Numerical features: {len([col for col in df.select_dtypes(include=[np.number]).columns if col not in ['year', 'month', 'day', 'hour', 'minute']])}\")\n",
    "print(f\"✓ Categorical features: {len([col for col in categorical_cols if col not in ['Load_Type', 'date']])}\")\n",
    "print(f\"✓ Missing values: {df.isnull().sum().sum()}\")\n",
    "print(f\"✓ Duplicate rows: {df.duplicated().sum()}\")\n",
    "print(f\"✓ Date range: {df['date'].min().strftime('%Y-%m-%d') if 'date' in df.columns else 'N/A'} to {df['date'].max().strftime('%Y-%m-%d') if 'date' in df.columns else 'N/A'}\")\n",
    "print(f\"✓ Output file: {output_filename}\")\n",
    "print(\"\" + \"=\"*60 + \"\")\n",
    "print(\"Data Ingestion Phase Completed Successfully!\")\n",
    "print(f\"Timestamp: {datetime.now()}\")"
   ],
   "outputs": [
    {
     "name": "stdout",
     "output_type": "stream",
     "text": [
      "============================================================\n",
      "             DATA INGESTION SUMMARY\n",
      "============================================================\n",
      "✓ Dataset loaded successfully: 35,040 rows × 16 columns\n",
      "✓ Target variable: Load_Type with 3 classes\n",
      "✓ Target distribution: {'Light_Load': np.int64(18072), 'Medium_Load': np.int64(9696), 'Maximum_Load': np.int64(7272)}\n",
      "✓ Numerical features: 7\n",
      "✓ Categorical features: 2\n",
      "✓ Missing values: 0\n",
      "✓ Duplicate rows: 0\n",
      "✓ Date range: 2018-01-01 to 2018-12-31\n",
      "✓ Output file: ingested_data.csv\n",
      "============================================================\n",
      "Data Ingestion Phase Completed Successfully!\n",
      "Timestamp: 2025-10-13 09:57:26.040433\n"
     ]
    }
   ],
   "execution_count": 17
  },
  {
   "cell_type": "code",
   "metadata": {
    "ExecuteTime": {
     "end_time": "2025-10-13T04:27:26.051888Z",
     "start_time": "2025-10-13T04:27:26.050133Z"
    }
   },
   "source": [],
   "outputs": [],
   "execution_count": null
  }
 ],
 "metadata": {
  "kernelspec": {
   "display_name": "Python 3",
   "language": "python",
   "name": "python3"
  },
  "language_info": {
   "codemirror_mode": {
    "name": "ipython",
    "version": 3
   },
   "file_extension": ".py",
   "name": "python",
   "nbconvert_exporter": "python",
   "pygments_lexer": "ipython3",
   "version": "3.8.5"
  }
 },
 "nbformat": 4,
 "nbformat_minor": 4
}
