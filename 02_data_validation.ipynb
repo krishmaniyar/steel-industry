{
 "cells": [
  {
   "cell_type": "markdown",
   "metadata": {},
   "source": [
    "# Data Validation Notebook\n",
    "## Steel Industry Load Type Prediction\n",
    "\n",
    "This notebook handles the data validation phase of our ML pipeline.\n",
    "\n",
    "**Objectives:**\n",
    "- Load the ingested data\n",
    "- Validate data quality and integrity\n",
    "- Identify and handle outliers\n",
    "- Perform advanced data quality checks\n",
    "- Save the validated data for transformation phase"
   ]
  },
  {
   "cell_type": "code",
   "metadata": {
    "ExecuteTime": {
     "end_time": "2025-10-13T04:27:32.671879Z",
     "start_time": "2025-10-13T04:27:32.667885Z"
    }
   },
   "source": [
    "# Import necessary libraries\n",
    "import pandas as pd\n",
    "import numpy as np\n",
    "import matplotlib.pyplot as plt\n",
    "import seaborn as sns\n",
    "from datetime import datetime\n",
    "from scipy import stats\n",
    "import warnings\n",
    "warnings.filterwarnings('ignore')\n",
    "\n",
    "# Set display options\n",
    "pd.set_option('display.max_columns', None)\n",
    "pd.set_option('display.width', None)\n",
    "\n",
    "# Set plotting style\n",
    "plt.style.use('default')\n",
    "sns.set_palette(\"husl\")\n",
    "\n",
    "print(\"Data Validation Phase Started\")\n",
    "print(f\"Timestamp: {datetime.now()}\")"
   ],
   "outputs": [
    {
     "name": "stdout",
     "output_type": "stream",
     "text": [
      "Data Validation Phase Started\n",
      "Timestamp: 2025-10-13 09:57:32.670577\n"
     ]
    }
   ],
   "execution_count": 1
  },
  {
   "cell_type": "markdown",
   "metadata": {},
   "source": [
    "## 1. Load Ingested Data"
   ]
  },
  {
   "cell_type": "code",
   "metadata": {
    "ExecuteTime": {
     "end_time": "2025-10-13T04:27:32.742636Z",
     "start_time": "2025-10-13T04:27:32.677131Z"
    }
   },
   "source": [
    "# Load the ingested data\n",
    "input_filename = 'ingested_data.csv'\n",
    "\n",
    "try:\n",
    "    df = pd.read_csv(input_filename)\n",
    "    print(f\"✓ Data loaded successfully from {input_filename}\")\n",
    "    print(f\"Dataset shape: {df.shape}\")\n",
    "    print(f\"Memory usage: {df.memory_usage(deep=True).sum() / 1024**2:.2f} MB\")\n",
    "except FileNotFoundError:\n",
    "    print(f\"❌ Error: {input_filename} not found. Please run 01_data_ingestion.ipynb first.\")\n",
    "    raise\n",
    "except Exception as e:\n",
    "    print(f\"❌ Error loading data: {e}\")\n",
    "    raise"
   ],
   "outputs": [
    {
     "name": "stdout",
     "output_type": "stream",
     "text": [
      "✓ Data loaded successfully from ingested_data.csv\n",
      "Dataset shape: (35040, 16)\n",
      "Memory usage: 11.22 MB\n"
     ]
    }
   ],
   "execution_count": 2
  },
  {
   "cell_type": "code",
   "metadata": {
    "ExecuteTime": {
     "end_time": "2025-10-13T04:27:32.751774Z",
     "start_time": "2025-10-13T04:27:32.747346Z"
    }
   },
   "source": [
    "# Quick overview of loaded data\n",
    "print(\"=== LOADED DATA OVERVIEW ===\")\n",
    "print(f\"Shape: {df.shape}\")\n",
    "print(f\"\\nColumns: {list(df.columns)}\")\n",
    "print(f\"\\nData types:\")\n",
    "print(df.dtypes)"
   ],
   "outputs": [
    {
     "name": "stdout",
     "output_type": "stream",
     "text": [
      "=== LOADED DATA OVERVIEW ===\n",
      "Shape: (35040, 16)\n",
      "\n",
      "Columns: ['date', 'Usage_kWh', 'Lagging_Current_Reactive.Power_kVarh', 'Leading_Current_Reactive_Power_kVarh', 'CO2(tCO2)', 'Lagging_Current_Power_Factor', 'Leading_Current_Power_Factor', 'NSM', 'WeekStatus', 'Day_of_week', 'Load_Type', 'year', 'month', 'day', 'hour', 'minute']\n",
      "\n",
      "Data types:\n",
      "date                                     object\n",
      "Usage_kWh                               float64\n",
      "Lagging_Current_Reactive.Power_kVarh    float64\n",
      "Leading_Current_Reactive_Power_kVarh    float64\n",
      "CO2(tCO2)                               float64\n",
      "Lagging_Current_Power_Factor            float64\n",
      "Leading_Current_Power_Factor            float64\n",
      "NSM                                       int64\n",
      "WeekStatus                               object\n",
      "Day_of_week                              object\n",
      "Load_Type                                object\n",
      "year                                      int64\n",
      "month                                     int64\n",
      "day                                       int64\n",
      "hour                                      int64\n",
      "minute                                    int64\n",
      "dtype: object\n"
     ]
    }
   ],
   "execution_count": 3
  },
  {
   "cell_type": "markdown",
   "metadata": {},
   "source": [
    "## 2. Data Type Validation"
   ]
  },
  {
   "cell_type": "code",
   "metadata": {
    "ExecuteTime": {
     "end_time": "2025-10-13T04:27:32.766212Z",
     "start_time": "2025-10-13T04:27:32.761947Z"
    }
   },
   "source": [
    "# Define expected data types for validation\n",
    "expected_types = {\n",
    "    'Usage_kWh': 'float64',\n",
    "    'Lagging_Current_Reactive.Power_kVarh': 'float64',\n",
    "    'Leading_Current_Reactive_Power_kVarh': 'float64',\n",
    "    'CO2(tCO2)': 'float64',\n",
    "    'Lagging_Current_Power_Factor': 'float64',\n",
    "    'Leading_Current_Power_Factor': 'float64',\n",
    "    'NSM': 'int64',\n",
    "    'WeekStatus': 'object',\n",
    "    'Day_of_week': 'object',\n",
    "    'Load_Type': 'object'\n",
    "}\n",
    "\n",
    "print(\"=== DATA TYPE VALIDATION ===\")\n",
    "type_issues = []\n",
    "\n",
    "for col, expected_type in expected_types.items():\n",
    "    if col in df.columns:\n",
    "        actual_type = str(df[col].dtype)\n",
    "        if actual_type == expected_type:\n",
    "            print(f\"✓ {col}: {actual_type} (correct)\")\n",
    "        else:\n",
    "            print(f\"⚠️ {col}: {actual_type} (expected {expected_type})\")\n",
    "            type_issues.append((col, actual_type, expected_type))\n",
    "    else:\n",
    "        print(f\"❌ {col}: Column not found\")\n",
    "\n",
    "if type_issues:\n",
    "    print(f\"\\n⚠️ Found {len(type_issues)} data type issues\")\n",
    "else:\n",
    "    print(\"\\n✓ All data types are correct\")"
   ],
   "outputs": [
    {
     "name": "stdout",
     "output_type": "stream",
     "text": [
      "=== DATA TYPE VALIDATION ===\n",
      "✓ Usage_kWh: float64 (correct)\n",
      "✓ Lagging_Current_Reactive.Power_kVarh: float64 (correct)\n",
      "✓ Leading_Current_Reactive_Power_kVarh: float64 (correct)\n",
      "✓ CO2(tCO2): float64 (correct)\n",
      "✓ Lagging_Current_Power_Factor: float64 (correct)\n",
      "✓ Leading_Current_Power_Factor: float64 (correct)\n",
      "✓ NSM: int64 (correct)\n",
      "✓ WeekStatus: object (correct)\n",
      "✓ Day_of_week: object (correct)\n",
      "✓ Load_Type: object (correct)\n",
      "\n",
      "✓ All data types are correct\n"
     ]
    }
   ],
   "execution_count": 4
  },
  {
   "cell_type": "markdown",
   "metadata": {},
   "source": [
    "## 3. Missing Values Analysis"
   ]
  },
  {
   "cell_type": "code",
   "metadata": {
    "ExecuteTime": {
     "end_time": "2025-10-13T04:27:32.784275Z",
     "start_time": "2025-10-13T04:27:32.774010Z"
    }
   },
   "source": [
    "# Comprehensive missing values analysis\n",
    "print(\"=== MISSING VALUES ANALYSIS ===\")\n",
    "\n",
    "missing_summary = df.isnull().sum()\n",
    "missing_percentage = (missing_summary / len(df) * 100).round(2)\n",
    "\n",
    "missing_df = pd.DataFrame({\n",
    "    'Column': df.columns,\n",
    "    'Missing_Count': missing_summary.values,\n",
    "    'Missing_Percentage': missing_percentage.values\n",
    "})\n",
    "\n",
    "missing_df = missing_df[missing_df['Missing_Count'] > 0].sort_values('Missing_Count', ascending=False)\n",
    "\n",
    "if len(missing_df) > 0:\n",
    "    print(\"⚠️ Columns with missing values:\")\n",
    "    print(missing_df)\n",
    "    \n",
    "    # Visualize missing values\n",
    "    if len(missing_df) > 0:\n",
    "        plt.figure(figsize=(12, 6))\n",
    "        \n",
    "        plt.subplot(1, 2, 1)\n",
    "        missing_df.plot(x='Column', y='Missing_Count', kind='bar', ax=plt.gca())\n",
    "        plt.title('Missing Values Count by Column')\n",
    "        plt.xticks(rotation=45)\n",
    "        \n",
    "        plt.subplot(1, 2, 2)\n",
    "        missing_df.plot(x='Column', y='Missing_Percentage', kind='bar', ax=plt.gca())\n",
    "        plt.title('Missing Values Percentage by Column')\n",
    "        plt.xticks(rotation=45)\n",
    "        \n",
    "        plt.tight_layout()\n",
    "        plt.show()\n",
    "else:\n",
    "    print(\"✓ No missing values found in the dataset!\")"
   ],
   "outputs": [
    {
     "name": "stdout",
     "output_type": "stream",
     "text": [
      "=== MISSING VALUES ANALYSIS ===\n",
      "✓ No missing values found in the dataset!\n"
     ]
    }
   ],
   "execution_count": 5
  },
  {
   "cell_type": "markdown",
   "metadata": {},
   "source": [
    "## 4. Duplicate Records Validation"
   ]
  },
  {
   "cell_type": "code",
   "metadata": {
    "ExecuteTime": {
     "end_time": "2025-10-13T04:27:32.817688Z",
     "start_time": "2025-10-13T04:27:32.788563Z"
    }
   },
   "source": [
    "# Check for various types of duplicates\n",
    "print(\"=== DUPLICATE RECORDS VALIDATION ===\")\n",
    "\n",
    "# Complete duplicate rows\n",
    "complete_duplicates = df.duplicated().sum()\n",
    "print(f\"Complete duplicate rows: {complete_duplicates}\")\n",
    "\n",
    "# Duplicate rows excluding timestamp (if date column exists)\n",
    "if 'date' in df.columns:\n",
    "    feature_cols = [col for col in df.columns if col != 'date']\n",
    "    feature_duplicates = df.duplicated(subset=feature_cols).sum()\n",
    "    print(f\"Duplicate rows (excluding date): {feature_duplicates}\")\n",
    "\n",
    "# Check for duplicates in key identifier combinations\n",
    "if 'date' in df.columns:\n",
    "    date_duplicates = df.duplicated(subset=['date']).sum()\n",
    "    print(f\"Duplicate timestamps: {date_duplicates}\")\n",
    "\n",
    "if complete_duplicates > 0:\n",
    "    print(f\"\\n⚠️ Sample of duplicate rows:\")\n",
    "    duplicate_rows = df[df.duplicated(keep=False)].sort_values(list(df.columns))\n",
    "    print(duplicate_rows.head(10))\n",
    "    \n",
    "    # Option to remove duplicates (commented out for safety)\n",
    "    # df_clean = df.drop_duplicates()\n",
    "    # print(f\"Rows after removing duplicates: {len(df_clean)}\")\n",
    "else:\n",
    "    print(\"✓ No duplicate records found\")"
   ],
   "outputs": [
    {
     "name": "stdout",
     "output_type": "stream",
     "text": [
      "=== DUPLICATE RECORDS VALIDATION ===\n",
      "Complete duplicate rows: 0\n",
      "Duplicate rows (excluding date): 0\n",
      "Duplicate timestamps: 0\n",
      "✓ No duplicate records found\n"
     ]
    }
   ],
   "execution_count": 6
  },
  {
   "cell_type": "markdown",
   "metadata": {},
   "source": [
    "## 5. Outlier Detection and Analysis"
   ]
  },
  {
   "cell_type": "code",
   "metadata": {
    "ExecuteTime": {
     "end_time": "2025-10-13T04:27:32.851770Z",
     "start_time": "2025-10-13T04:27:32.823674Z"
    }
   },
   "source": [
    "# Outlier detection for numerical columns\n",
    "print(\"=== OUTLIER DETECTION AND ANALYSIS ===\")\n",
    "\n",
    "numerical_cols = df.select_dtypes(include=[np.number]).columns.tolist()\n",
    "# Remove time-based features for outlier analysis\n",
    "numerical_cols = [col for col in numerical_cols if col not in ['year', 'month', 'day', 'hour', 'minute']]\n",
    "\n",
    "print(f\"Analyzing outliers in {len(numerical_cols)} numerical columns...\")\n",
    "\n",
    "outlier_summary = []\n",
    "\n",
    "for col in numerical_cols:\n",
    "    if col in df.columns:\n",
    "        # IQR method\n",
    "        Q1 = df[col].quantile(0.25)\n",
    "        Q3 = df[col].quantile(0.75)\n",
    "        IQR = Q3 - Q1\n",
    "        lower_bound = Q1 - 1.5 * IQR\n",
    "        upper_bound = Q3 + 1.5 * IQR\n",
    "        \n",
    "        outliers_iqr = df[(df[col] < lower_bound) | (df[col] > upper_bound)]\n",
    "        outlier_count_iqr = len(outliers_iqr)\n",
    "        outlier_percentage_iqr = (outlier_count_iqr / len(df)) * 100\n",
    "        \n",
    "        # Z-score method (|z| > 3)\n",
    "        z_scores = np.abs(stats.zscore(df[col]))\n",
    "        outliers_z = df[z_scores > 3]\n",
    "        outlier_count_z = len(outliers_z)\n",
    "        outlier_percentage_z = (outlier_count_z / len(df)) * 100\n",
    "        \n",
    "        outlier_summary.append({\n",
    "            'Column': col,\n",
    "            'IQR_Outliers': outlier_count_iqr,\n",
    "            'IQR_Percentage': round(outlier_percentage_iqr, 2),\n",
    "            'Z_Score_Outliers': outlier_count_z,\n",
    "            'Z_Score_Percentage': round(outlier_percentage_z, 2),\n",
    "            'Min_Value': df[col].min(),\n",
    "            'Max_Value': df[col].max(),\n",
    "            'Mean': round(df[col].mean(), 2),\n",
    "            'Std': round(df[col].std(), 2)\n",
    "        })\n",
    "\n",
    "outlier_df = pd.DataFrame(outlier_summary)\n",
    "print(\"\\nOutlier Summary:\")\n",
    "print(outlier_df)"
   ],
   "outputs": [
    {
     "name": "stdout",
     "output_type": "stream",
     "text": [
      "=== OUTLIER DETECTION AND ANALYSIS ===\n",
      "Analyzing outliers in 7 numerical columns...\n",
      "\n",
      "Outlier Summary:\n",
      "                                 Column  IQR_Outliers  IQR_Percentage  \\\n",
      "0                             Usage_kWh           328            0.94   \n",
      "1  Lagging_Current_Reactive.Power_kVarh          1059            3.02   \n",
      "2  Leading_Current_Reactive_Power_kVarh          7759           22.14   \n",
      "3                             CO2(tCO2)           437            1.25   \n",
      "4          Lagging_Current_Power_Factor             1            0.00   \n",
      "5          Leading_Current_Power_Factor          8327           23.76   \n",
      "6                                   NSM             0            0.00   \n",
      "\n",
      "   Z_Score_Outliers  Z_Score_Percentage  Min_Value  Max_Value      Mean  \\\n",
      "0               212                0.61        0.0     157.18     27.39   \n",
      "1               387                1.10        0.0      96.91     13.04   \n",
      "2               467                1.33        0.0      27.76      3.87   \n",
      "3               437                1.25        0.0       0.07      0.01   \n",
      "4                 1                0.00        0.0     100.00     80.58   \n",
      "5                 0                0.00        0.0     100.00     84.37   \n",
      "6                 0                0.00        0.0   85500.00  42750.00   \n",
      "\n",
      "        Std  \n",
      "0     33.44  \n",
      "1     16.31  \n",
      "2      7.42  \n",
      "3      0.02  \n",
      "4     18.92  \n",
      "5     30.46  \n",
      "6  24940.53  \n"
     ]
    }
   ],
   "execution_count": 7
  },
  {
   "cell_type": "code",
   "metadata": {
    "ExecuteTime": {
     "end_time": "2025-10-13T04:27:33.405236Z",
     "start_time": "2025-10-13T04:27:32.856563Z"
    }
   },
   "source": [
    "# Visualize outliers using box plots\n",
    "if len(numerical_cols) > 0:\n",
    "    # Create box plots for numerical features\n",
    "    n_cols = min(4, len(numerical_cols))\n",
    "    n_rows = (len(numerical_cols) + n_cols - 1) // n_cols\n",
    "    \n",
    "    fig, axes = plt.subplots(n_rows, n_cols, figsize=(16, 4 * n_rows))\n",
    "    if n_rows == 1:\n",
    "        axes = [axes] if n_cols == 1 else axes\n",
    "    else:\n",
    "        axes = axes.flatten()\n",
    "    \n",
    "    for i, col in enumerate(numerical_cols):\n",
    "        if i < len(axes):\n",
    "            df.boxplot(column=col, ax=axes[i])\n",
    "            axes[i].set_title(f'{col} - Box Plot')\n",
    "            axes[i].set_xlabel('')\n",
    "    \n",
    "    # Hide extra subplots\n",
    "    for i in range(len(numerical_cols), len(axes)):\n",
    "        axes[i].set_visible(False)\n",
    "    \n",
    "    plt.suptitle('Outlier Detection - Box Plots', fontsize=16, fontweight='bold')\n",
    "    plt.tight_layout()\n",
    "    plt.show()"
   ],
   "outputs": [
    {
     "data": {
      "text/plain": [
       "<Figure size 1600x800 with 8 Axes>"
      ],
      "image/png": "[encoded data removed]"
     },
     "metadata": {},
     "output_type": "display_data",
     "jetTransient": {
      "display_id": null
     }
    }
   ],
   "execution_count": 8
  },
  {
   "cell_type": "markdown",
   "metadata": {},
   "source": [
    "## 6. Data Range Validation"
   ]
  },
  {
   "cell_type": "code",
   "metadata": {
    "ExecuteTime": {
     "end_time": "2025-10-13T04:27:33.417371Z",
     "start_time": "2025-10-13T04:27:33.411541Z"
    }
   },
   "source": [
    "# Validate data ranges for specific features\n",
    "print(\"=== DATA RANGE VALIDATION ===\")\n",
    "\n",
    "# Define expected ranges for key features\n",
    "expected_ranges = {\n",
    "    'Usage_kWh': (0, None),  # Should be positive\n",
    "    'Lagging_Current_Power_Factor': (0, 100),  # Typically 0-100\n",
    "    'Leading_Current_Power_Factor': (0, 100),  # Typically 0-100\n",
    "    'NSM': (0, None),  # Should be positive\n",
    "    'CO2(tCO2)': (0, None)  # Should be non-negative\n",
    "}\n",
    "\n",
    "range_issues = []\n",
    "\n",
    "for col, (min_val, max_val) in expected_ranges.items():\n",
    "    if col in df.columns:\n",
    "        col_min = df[col].min()\n",
    "        col_max = df[col].max()\n",
    "        \n",
    "        issues = []\n",
    "        if min_val is not None and col_min < min_val:\n",
    "            issues.append(f\"Min value {col_min} < expected {min_val}\")\n",
    "        if max_val is not None and col_max > max_val:\n",
    "            issues.append(f\"Max value {col_max} > expected {max_val}\")\n",
    "        \n",
    "        if issues:\n",
    "            print(f\"⚠️ {col}: {', '.join(issues)}\")\n",
    "            range_issues.append(col)\n",
    "        else:\n",
    "            print(f\"✓ {col}: Range [{col_min:.2f}, {col_max:.2f}] is valid\")\n",
    "\n",
    "if range_issues:\n",
    "    print(f\"\\n⚠️ Found range issues in {len(range_issues)} columns\")\n",
    "else:\n",
    "    print(\"\\n✓ All data ranges are valid\")"
   ],
   "outputs": [
    {
     "name": "stdout",
     "output_type": "stream",
     "text": [
      "=== DATA RANGE VALIDATION ===\n",
      "✓ Usage_kWh: Range [0.00, 157.18] is valid\n",
      "✓ Lagging_Current_Power_Factor: Range [0.00, 100.00] is valid\n",
      "✓ Leading_Current_Power_Factor: Range [0.00, 100.00] is valid\n",
      "✓ NSM: Range [0.00, 85500.00] is valid\n",
      "✓ CO2(tCO2): Range [0.00, 0.07] is valid\n",
      "\n",
      "✓ All data ranges are valid\n"
     ]
    }
   ],
   "execution_count": 9
  },
  {
   "cell_type": "markdown",
   "metadata": {},
   "source": [
    "## 7. Categorical Data Validation"
   ]
  },
  {
   "cell_type": "code",
   "metadata": {
    "ExecuteTime": {
     "end_time": "2025-10-13T04:27:33.439774Z",
     "start_time": "2025-10-13T04:27:33.426732Z"
    }
   },
   "source": [
    "# Validate categorical features\n",
    "print(\"=== CATEGORICAL DATA VALIDATION ===\")\n",
    "\n",
    "# Define expected values for categorical columns\n",
    "expected_categories = {\n",
    "    'Load_Type': ['Light_Load', 'Medium_Load', 'Maximum_Load'],\n",
    "    'WeekStatus': ['Weekday', 'Weekend'],\n",
    "    'Day_of_week': ['Monday', 'Tuesday', 'Wednesday', 'Thursday', 'Friday', 'Saturday', 'Sunday']\n",
    "}\n",
    "\n",
    "categorical_issues = []\n",
    "\n",
    "for col, expected_values in expected_categories.items():\n",
    "    if col in df.columns:\n",
    "        actual_values = set(df[col].unique())\n",
    "        expected_set = set(expected_values)\n",
    "        \n",
    "        unexpected = actual_values - expected_set\n",
    "        missing = expected_set - actual_values\n",
    "        \n",
    "        print(f\"\\n{col}:\")\n",
    "        print(f\"  Expected: {expected_values}\")\n",
    "        print(f\"  Actual: {list(actual_values)}\")\n",
    "        \n",
    "        if unexpected:\n",
    "            print(f\"  ⚠️ Unexpected values: {list(unexpected)}\")\n",
    "            categorical_issues.append(f\"{col}: unexpected values\")\n",
    "        \n",
    "        if missing:\n",
    "            print(f\"  ⚠️ Missing expected values: {list(missing)}\")\n",
    "            categorical_issues.append(f\"{col}: missing values\")\n",
    "        \n",
    "        if not unexpected and not missing:\n",
    "            print(f\"  ✓ All values are valid\")\n",
    "        \n",
    "        # Show value counts\n",
    "        print(f\"  Value counts: {dict(df[col].value_counts())}\")\n",
    "\n",
    "if categorical_issues:\n",
    "    print(f\"\\n⚠️ Found {len(categorical_issues)} categorical data issues\")\n",
    "else:\n",
    "    print(\"\\n✓ All categorical data is valid\")"
   ],
   "outputs": [
    {
     "name": "stdout",
     "output_type": "stream",
     "text": [
      "=== CATEGORICAL DATA VALIDATION ===\n",
      "\n",
      "Load_Type:\n",
      "  Expected: ['Light_Load', 'Medium_Load', 'Maximum_Load']\n",
      "  Actual: ['Medium_Load', 'Light_Load', 'Maximum_Load']\n",
      "  ✓ All values are valid\n",
      "  Value counts: {'Light_Load': np.int64(18072), 'Medium_Load': np.int64(9696), 'Maximum_Load': np.int64(7272)}\n",
      "\n",
      "WeekStatus:\n",
      "  Expected: ['Weekday', 'Weekend']\n",
      "  Actual: ['Weekend', 'Weekday']\n",
      "  ✓ All values are valid\n",
      "  Value counts: {'Weekday': np.int64(25056), 'Weekend': np.int64(9984)}\n",
      "\n",
      "Day_of_week:\n",
      "  Expected: ['Monday', 'Tuesday', 'Wednesday', 'Thursday', 'Friday', 'Saturday', 'Sunday']\n",
      "  Actual: ['Sunday', 'Monday', 'Wednesday', 'Friday', 'Tuesday', 'Saturday', 'Thursday']\n",
      "  ✓ All values are valid\n",
      "  Value counts: {'Monday': np.int64(5088), 'Tuesday': np.int64(4992), 'Wednesday': np.int64(4992), 'Thursday': np.int64(4992), 'Friday': np.int64(4992), 'Saturday': np.int64(4992), 'Sunday': np.int64(4992)}\n",
      "\n",
      "✓ All categorical data is valid\n"
     ]
    }
   ],
   "execution_count": 10
  },
  {
   "cell_type": "markdown",
   "metadata": {},
   "source": [
    "## 8. Statistical Validation"
   ]
  },
  {
   "cell_type": "code",
   "metadata": {
    "ExecuteTime": {
     "end_time": "2025-10-13T04:27:33.500389Z",
     "start_time": "2025-10-13T04:27:33.446469Z"
    }
   },
   "source": [
    "# Statistical tests and validation\n",
    "print(\"=== STATISTICAL VALIDATION ===\")\n",
    "\n",
    "# Check for data distribution and normality\n",
    "normality_results = []\n",
    "\n",
    "for col in numerical_cols:\n",
    "    if col in df.columns and len(df[col].dropna()) > 5000:  # Shapiro-Wilk is limited to 5000 samples\n",
    "        # Use Kolmogorov-Smirnov test for large samples\n",
    "        try:\n",
    "            ks_stat, ks_p = stats.kstest(df[col].dropna(), 'norm',\n",
    "                                       args=(df[col].mean(), df[col].std()))\n",
    "            is_normal = ks_p > 0.05\n",
    "            test_used = 'KS'\n",
    "        except:\n",
    "            ks_stat, ks_p = np.nan, np.nan\n",
    "            is_normal = False\n",
    "            test_used = 'Failed'\n",
    "    elif col in df.columns:\n",
    "        # Use Shapiro-Wilk test for smaller samples\n",
    "        try:\n",
    "            sw_stat, sw_p = stats.shapiro(df[col].dropna())\n",
    "            is_normal = sw_p > 0.05\n",
    "            ks_stat, ks_p = sw_stat, sw_p\n",
    "            test_used = 'SW'\n",
    "        except:\n",
    "            ks_stat, ks_p = np.nan, np.nan\n",
    "            is_normal = False\n",
    "            test_used = 'Failed'\n",
    "    else:\n",
    "        continue\n",
    "        \n",
    "    normality_results.append({\n",
    "        'Column': col,\n",
    "        'Test': test_used,\n",
    "        'Statistic': round(ks_stat, 4) if not np.isnan(ks_stat) else 'N/A',\n",
    "        'P_Value': round(ks_p, 4) if not np.isnan(ks_p) else 'N/A',\n",
    "        'Is_Normal': is_normal,\n",
    "        'Skewness': round(df[col].skew(), 3),\n",
    "        'Kurtosis': round(df[col].kurtosis(), 3)\n",
    "    })\n",
    "\n",
    "if normality_results:\n",
    "    normality_df = pd.DataFrame(normality_results)\n",
    "    print(\"\\nNormality Test Results:\")\n",
    "    print(normality_df)\n",
    "    \n",
    "    non_normal_cols = normality_df[normality_df['Is_Normal'] == False]['Column'].tolist()\n",
    "    if non_normal_cols:\n",
    "        print(f\"\\n⚠️ Non-normal distributions detected in: {non_normal_cols}\")\n",
    "        print(\"Consider transformation for modeling if needed.\")\n",
    "    else:\n",
    "        print(\"\\n✓ All numerical features follow normal distribution\")"
   ],
   "outputs": [
    {
     "name": "stdout",
     "output_type": "stream",
     "text": [
      "=== STATISTICAL VALIDATION ===\n",
      "\n",
      "Normality Test Results:\n",
      "                                 Column Test  Statistic  P_Value  Is_Normal  \\\n",
      "0                             Usage_kWh   KS     0.3123      0.0      False   \n",
      "1  Lagging_Current_Reactive.Power_kVarh   KS     0.2875      0.0      False   \n",
      "2  Leading_Current_Reactive_Power_kVarh   KS     0.4005      0.0      False   \n",
      "3                             CO2(tCO2)   KS     0.3613      0.0      False   \n",
      "4          Lagging_Current_Power_Factor   KS     0.1523      0.0      False   \n",
      "5          Leading_Current_Power_Factor   KS     0.4502      0.0      False   \n",
      "6                                   NSM   KS     0.0624      0.0      False   \n",
      "\n",
      "   Skewness  Kurtosis  \n",
      "0     1.197     0.391  \n",
      "1     1.438     1.214  \n",
      "2     1.734     1.581  \n",
      "3     1.149     0.215  \n",
      "4    -0.606    -1.096  \n",
      "5    -1.512     0.383  \n",
      "6     0.000    -1.200  \n",
      "\n",
      "⚠️ Non-normal distributions detected in: ['Usage_kWh', 'Lagging_Current_Reactive.Power_kVarh', 'Leading_Current_Reactive_Power_kVarh', 'CO2(tCO2)', 'Lagging_Current_Power_Factor', 'Leading_Current_Power_Factor', 'NSM']\n",
      "Consider transformation for modeling if needed.\n"
     ]
    }
   ],
   "execution_count": 11
  },
  {
   "cell_type": "markdown",
   "metadata": {},
   "source": [
    "## 9. Business Logic Validation"
   ]
  },
  {
   "cell_type": "code",
   "metadata": {
    "ExecuteTime": {
     "end_time": "2025-10-13T04:27:33.533455Z",
     "start_time": "2025-10-13T04:27:33.520798Z"
    }
   },
   "source": [
    "# Business logic and domain-specific validation\n",
    "print(\"=== BUSINESS LOGIC VALIDATION ===\")\n",
    "\n",
    "business_issues = []\n",
    "\n",
    "# Check if power factors are reasonable\n",
    "if 'Lagging_Current_Power_Factor' in df.columns:\n",
    "    invalid_lagging_pf = df[\n",
    "        (df['Lagging_Current_Power_Factor'] < 0) | \n",
    "        (df['Lagging_Current_Power_Factor'] > 100)\n",
    "    ]\n",
    "    if len(invalid_lagging_pf) > 0:\n",
    "        print(f\"⚠️ Found {len(invalid_lagging_pf)} rows with invalid Lagging Power Factor\")\n",
    "        business_issues.append(\"Invalid Lagging Power Factor\")\n",
    "    else:\n",
    "        print(\"✓ Lagging Power Factor values are valid\")\n",
    "\n",
    "if 'Leading_Current_Power_Factor' in df.columns:\n",
    "    invalid_leading_pf = df[\n",
    "        (df['Leading_Current_Power_Factor'] < 0) | \n",
    "        (df['Leading_Current_Power_Factor'] > 100)\n",
    "    ]\n",
    "    if len(invalid_leading_pf) > 0:\n",
    "        print(f\"⚠️ Found {len(invalid_leading_pf)} rows with invalid Leading Power Factor\")\n",
    "        business_issues.append(\"Invalid Leading Power Factor\")\n",
    "    else:\n",
    "        print(\"✓ Leading Power Factor values are valid\")\n",
    "\n",
    "# Check for logical consistency between weekend status and day of week\n",
    "if 'WeekStatus' in df.columns and 'Day_of_week' in df.columns:\n",
    "    weekend_days = ['Saturday', 'Sunday']\n",
    "    weekday_days = ['Monday', 'Tuesday', 'Wednesday', 'Thursday', 'Friday']\n",
    "    \n",
    "    inconsistent_weekend = df[\n",
    "        (df['WeekStatus'] == 'Weekend') & \n",
    "        (~df['Day_of_week'].isin(weekend_days))\n",
    "    ]\n",
    "    \n",
    "    inconsistent_weekday = df[\n",
    "        (df['WeekStatus'] == 'Weekday') & \n",
    "        (~df['Day_of_week'].isin(weekday_days))\n",
    "    ]\n",
    "    \n",
    "    total_inconsistent = len(inconsistent_weekend) + len(inconsistent_weekday)\n",
    "    \n",
    "    if total_inconsistent > 0:\n",
    "        print(f\"⚠️ Found {total_inconsistent} rows with inconsistent WeekStatus and Day_of_week\")\n",
    "        business_issues.append(\"Inconsistent WeekStatus/Day_of_week\")\n",
    "        if len(inconsistent_weekend) > 0:\n",
    "            print(f\"  - Weekend status but weekday: {len(inconsistent_weekend)} rows\")\n",
    "        if len(inconsistent_weekday) > 0:\n",
    "            print(f\"  - Weekday status but weekend: {len(inconsistent_weekday)} rows\")\n",
    "    else:\n",
    "        print(\"✓ WeekStatus and Day_of_week are consistent\")\n",
    "\n",
    "# Check for energy consumption patterns\n",
    "if 'Usage_kWh' in df.columns:\n",
    "    zero_usage = df[df['Usage_kWh'] == 0]\n",
    "    if len(zero_usage) > 0:\n",
    "        print(f\"⚠️ Found {len(zero_usage)} rows with zero energy usage\")\n",
    "        print(\"This might be valid (maintenance periods) or data quality issue\")\n",
    "    else:\n",
    "        print(\"✓ No zero energy usage found\")\n",
    "\n",
    "if business_issues:\n",
    "    print(f\"\\n⚠️ Found {len(business_issues)} business logic issues\")\n",
    "else:\n",
    "    print(\"\\n✓ All business logic validations passed\")"
   ],
   "outputs": [
    {
     "name": "stdout",
     "output_type": "stream",
     "text": [
      "=== BUSINESS LOGIC VALIDATION ===\n",
      "✓ Lagging Power Factor values are valid\n",
      "✓ Leading Power Factor values are valid\n",
      "✓ WeekStatus and Day_of_week are consistent\n",
      "⚠️ Found 1 rows with zero energy usage\n",
      "This might be valid (maintenance periods) or data quality issue\n",
      "\n",
      "✓ All business logic validations passed\n"
     ]
    }
   ],
   "execution_count": 12
  },
  {
   "cell_type": "markdown",
   "metadata": {},
   "source": [
    "## 10. Data Quality Score"
   ]
  },
  {
   "cell_type": "code",
   "metadata": {
    "ExecuteTime": {
     "end_time": "2025-10-13T04:27:33.560851Z",
     "start_time": "2025-10-13T04:27:33.537688Z"
    }
   },
   "source": [
    "# Calculate overall data quality score\n",
    "print(\"=== DATA QUALITY SCORE ===\")\n",
    "\n",
    "# Initialize score components\n",
    "score_components = {\n",
    "    'completeness': 0,\n",
    "    'uniqueness': 0,\n",
    "    'validity': 0,\n",
    "    'consistency': 0,\n",
    "    'accuracy': 0\n",
    "}\n",
    "\n",
    "# Completeness: No missing values\n",
    "missing_ratio = df.isnull().sum().sum() / (df.shape[0] * df.shape[1])\n",
    "score_components['completeness'] = max(0, (1 - missing_ratio) * 100)\n",
    "\n",
    "# Uniqueness: No duplicates\n",
    "duplicate_ratio = df.duplicated().sum() / len(df)\n",
    "score_components['uniqueness'] = max(0, (1 - duplicate_ratio) * 100)\n",
    "\n",
    "# Validity: Data types and ranges\n",
    "validity_issues = len(type_issues) + len(range_issues) + len(categorical_issues)\n",
    "total_checks = len(expected_types) + len(expected_ranges) + len(expected_categories)\n",
    "score_components['validity'] = max(0, ((total_checks - validity_issues) / total_checks) * 100) if total_checks > 0 else 100\n",
    "\n",
    "# Consistency: Business logic\n",
    "consistency_score = max(0, 100 - len(business_issues) * 20)  # Deduct 20 points per issue\n",
    "score_components['consistency'] = consistency_score\n",
    "\n",
    "# Accuracy: Outlier ratio (simplified)\n",
    "if len(outlier_df) > 0:\n",
    "    avg_outlier_percentage = outlier_df['IQR_Percentage'].mean()\n",
    "    accuracy_score = max(0, 100 - avg_outlier_percentage)  # Deduct based on outlier percentage\n",
    "else:\n",
    "    accuracy_score = 100\n",
    "score_components['accuracy'] = accuracy_score\n",
    "\n",
    "# Calculate overall score (weighted average)\n",
    "weights = {\n",
    "    'completeness': 0.25,\n",
    "    'uniqueness': 0.15,\n",
    "    'validity': 0.25,\n",
    "    'consistency': 0.20,\n",
    "    'accuracy': 0.15\n",
    "}\n",
    "\n",
    "overall_score = sum(score_components[key] * weights[key] for key in weights.keys())\n",
    "\n",
    "print(\"\\nData Quality Score Breakdown:\")\n",
    "for component, score in score_components.items():\n",
    "    status = \"✓\" if score >= 80 else \"⚠️\" if score >= 60 else \"❌\"\n",
    "    print(f\"{status} {component.capitalize():15}: {score:6.2f}/100\")\n",
    "\n",
    "print(f\"\\nOverall Data Quality Score: {overall_score:.2f}/100\")\n",
    "\n",
    "if overall_score >= 90:\n",
    "    print(\"🌟 Excellent data quality!\")\n",
    "elif overall_score >= 80:\n",
    "    print(\"✅ Good data quality\")\n",
    "elif overall_score >= 70:\n",
    "    print(\"⚠️ Acceptable data quality with some issues\")\n",
    "else:\n",
    "    print(\"❌ Poor data quality - significant issues need addressing\")"
   ],
   "outputs": [
    {
     "name": "stdout",
     "output_type": "stream",
     "text": [
      "=== DATA QUALITY SCORE ===\n",
      "\n",
      "Data Quality Score Breakdown:\n",
      "✓ Completeness   : 100.00/100\n",
      "✓ Uniqueness     : 100.00/100\n",
      "✓ Validity       : 100.00/100\n",
      "✓ Consistency    : 100.00/100\n",
      "✓ Accuracy       :  92.70/100\n",
      "\n",
      "Overall Data Quality Score: 98.90/100\n",
      "🌟 Excellent data quality!\n"
     ]
    }
   ],
   "execution_count": 13
  },
  {
   "cell_type": "markdown",
   "metadata": {},
   "source": [
    "## 11. Save Validated Data"
   ]
  },
  {
   "cell_type": "code",
   "metadata": {
    "ExecuteTime": {
     "end_time": "2025-10-13T04:27:33.773462Z",
     "start_time": "2025-10-13T04:27:33.570335Z"
    }
   },
   "source": [
    "# Save the validated data\n",
    "output_filename = 'validated_data.csv'\n",
    "\n",
    "try:\n",
    "    # Create a copy of the dataframe for any final cleaning\n",
    "    validated_df = df.copy()\n",
    "    \n",
    "    # Optional: Apply any critical fixes here\n",
    "    # For example, remove duplicates if found:\n",
    "    if complete_duplicates > 0:\n",
    "        print(f\"Removing {complete_duplicates} duplicate rows...\")\n",
    "        validated_df = validated_df.drop_duplicates()\n",
    "    \n",
    "    # Save the validated data\n",
    "    validated_df.to_csv(output_filename, index=False)\n",
    "    \n",
    "    print(f\"✓ Validated data successfully saved to {output_filename}\")\n",
    "    print(f\"Original dataset shape: {df.shape}\")\n",
    "    print(f\"Validated dataset shape: {validated_df.shape}\")\n",
    "    print(f\"Rows removed: {df.shape[0] - validated_df.shape[0]}\")\n",
    "    \n",
    "    # Verify the saved file\n",
    "    test_df = pd.read_csv(output_filename)\n",
    "    if test_df.shape == validated_df.shape:\n",
    "        print(\"✓ File integrity verified\")\n",
    "    else:\n",
    "        print(\"⚠️ File integrity check failed\")\n",
    "        \n",
    "except Exception as e:\n",
    "    print(f\"❌ Error saving data: {e}\")"
   ],
   "outputs": [
    {
     "name": "stdout",
     "output_type": "stream",
     "text": [
      "✓ Validated data successfully saved to validated_data.csv\n",
      "Original dataset shape: (35040, 16)\n",
      "Validated dataset shape: (35040, 16)\n",
      "Rows removed: 0\n",
      "✓ File integrity verified\n"
     ]
    }
   ],
   "execution_count": 14
  },
  {
   "cell_type": "markdown",
   "metadata": {},
   "source": [
    "## 12. Validation Summary Report"
   ]
  },
  {
   "cell_type": "code",
   "metadata": {
    "ExecuteTime": {
     "end_time": "2025-10-13T04:27:33.785222Z",
     "start_time": "2025-10-13T04:27:33.777999Z"
    }
   },
   "source": [
    "# Generate comprehensive validation summary\n",
    "print(\"\" + \"=\"*60 + \"\")\n",
    "print(\"             DATA VALIDATION SUMMARY\")\n",
    "print(\"\" + \"=\"*60 + \"\")\n",
    "\n",
    "print(f\"📊 Dataset Information:\")\n",
    "print(f\"   • Input file: {input_filename}\")\n",
    "print(f\"   • Output file: {output_filename}\")\n",
    "print(f\"   • Original shape: {df.shape}\")\n",
    "print(f\"   • Final shape: {validated_df.shape if 'validated_df' in locals() else df.shape}\")\n",
    "\n",
    "print(f\"\\n🔍 Validation Results:\")\n",
    "print(f\"   • Data Quality Score: {overall_score:.1f}/100\")\n",
    "print(f\"   • Missing values: {missing_summary.sum():,}\")\n",
    "print(f\"   • Duplicate rows: {complete_duplicates:,}\")\n",
    "print(f\"   • Data type issues: {len(type_issues)}\")\n",
    "print(f\"   • Range validation issues: {len(range_issues)}\")\n",
    "print(f\"   • Categorical issues: {len(categorical_issues)}\")\n",
    "print(f\"   • Business logic issues: {len(business_issues)}\")\n",
    "\n",
    "print(f\"\\n📈 Statistical Summary:\")\n",
    "if len(outlier_df) > 0:\n",
    "    print(f\"   • Average outliers (IQR): {outlier_df['IQR_Percentage'].mean():.1f}%\")\n",
    "    print(f\"   • Max outliers in column: {outlier_df.loc[outlier_df['IQR_Percentage'].idxmax(), 'Column']} ({outlier_df['IQR_Percentage'].max():.1f}%)\")\n",
    "else:\n",
    "    print(f\"   • No numerical columns for outlier analysis\")\n",
    "\n",
    "print(f\"\\n✅ Quality Assessment:\")\n",
    "for component, score in score_components.items():\n",
    "    status_icon = \"🟢\" if score >= 80 else \"🟡\" if score >= 60 else \"🔴\"\n",
    "    print(f\"   {status_icon} {component.capitalize()}: {score:.1f}/100\")\n",
    "\n",
    "print(f\"\\n🎯 Recommendations:\")\n",
    "recommendations = []\n",
    "if score_components['completeness'] < 90:\n",
    "    recommendations.append(\"Address missing values before modeling\")\n",
    "if score_components['uniqueness'] < 90:\n",
    "    recommendations.append(\"Remove duplicate records\")\n",
    "if score_components['validity'] < 80:\n",
    "    recommendations.append(\"Fix data type and range issues\")\n",
    "if score_components['consistency'] < 80:\n",
    "    recommendations.append(\"Resolve business logic inconsistencies\")\n",
    "if score_components['accuracy'] < 70:\n",
    "    recommendations.append(\"Consider outlier treatment strategies\")\n",
    "\n",
    "if recommendations:\n",
    "    for i, rec in enumerate(recommendations, 1):\n",
    "        print(f\"   {i}. {rec}\")\n",
    "else:\n",
    "    print(\"   🌟 Data quality is excellent - ready for transformation!\")\n",
    "\n",
    "print(\"\" + \"=\"*60 + \"\")\n",
    "print(\"Data Validation Phase Completed Successfully!\")\n",
    "print(f\"Timestamp: {datetime.now()}\")"
   ],
   "outputs": [
    {
     "name": "stdout",
     "output_type": "stream",
     "text": [
      "============================================================\n",
      "             DATA VALIDATION SUMMARY\n",
      "============================================================\n",
      "📊 Dataset Information:\n",
      "   • Input file: ingested_data.csv\n",
      "   • Output file: validated_data.csv\n",
      "   • Original shape: (35040, 16)\n",
      "   • Final shape: (35040, 16)\n",
      "\n",
      "🔍 Validation Results:\n",
      "   • Data Quality Score: 98.9/100\n",
      "   • Missing values: 0\n",
      "   • Duplicate rows: 0\n",
      "   • Data type issues: 0\n",
      "   • Range validation issues: 0\n",
      "   • Categorical issues: 0\n",
      "   • Business logic issues: 0\n",
      "\n",
      "📈 Statistical Summary:\n",
      "   • Average outliers (IQR): 7.3%\n",
      "   • Max outliers in column: Leading_Current_Power_Factor (23.8%)\n",
      "\n",
      "✅ Quality Assessment:\n",
      "   🟢 Completeness: 100.0/100\n",
      "   🟢 Uniqueness: 100.0/100\n",
      "   🟢 Validity: 100.0/100\n",
      "   🟢 Consistency: 100.0/100\n",
      "   🟢 Accuracy: 92.7/100\n",
      "\n",
      "🎯 Recommendations:\n",
      "   🌟 Data quality is excellent - ready for transformation!\n",
      "============================================================\n",
      "Data Validation Phase Completed Successfully!\n",
      "Timestamp: 2025-10-13 09:57:33.783912\n"
     ]
    }
   ],
   "execution_count": 15
  },
  {
   "cell_type": "code",
   "metadata": {
    "ExecuteTime": {
     "end_time": "2025-10-13T04:27:33.795449Z",
     "start_time": "2025-10-13T04:27:33.793774Z"
    }
   },
   "source": [],
   "outputs": [],
   "execution_count": null
  }
 ],
 "metadata": {
  "kernelspec": {
   "display_name": "Python 3",
   "language": "python",
   "name": "python3"
  },
  "language_info": {
   "codemirror_mode": {
    "name": "ipython",
    "version": 3
   },
   "file_extension": ".py",
   "name": "python",
   "nbconvert_exporter": "python",
   "pygments_lexer": "ipython3",
   "version": "3.8.5"
  }
 },
 "nbformat": 4,
 "nbformat_minor": 4
}
